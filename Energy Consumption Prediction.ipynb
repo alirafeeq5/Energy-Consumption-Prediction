{
  "nbformat": 4,
  "nbformat_minor": 0,
  "metadata": {
    "colab": {
      "provenance": [],
      "collapsed_sections": [
        "aTR4Bmzr2KSp",
        "vwJ_FcNlRz6f",
        "wx_9lWvm9Kq6"
      ]
    },
    "kernelspec": {
      "name": "python3",
      "display_name": "Python 3"
    },
    "language_info": {
      "name": "python"
    }
  },
  "cells": [
    {
      "cell_type": "markdown",
      "source": [
        "# **`Imports:`**\n",
        "\n",
        "\n"
      ],
      "metadata": {
        "id": "aTR4Bmzr2KSp"
      }
    },
    {
      "cell_type": "code",
      "execution_count": 82,
      "metadata": {
        "id": "bE-6VuCN1-Fl"
      },
      "outputs": [],
      "source": [
        "import numpy as np \n",
        "import pandas as pd \n",
        "import matplotlib.pyplot as plt\n",
        "from matplotlib import rcParams\n",
        "import seaborn as sns\n",
        "from sklearn import preprocessing \n",
        "label = preprocessing.LabelEncoder()\n",
        "from sklearn.model_selection import train_test_split\n",
        "import datetime as dt\n",
        "from sklearn.linear_model import LinearRegression, Ridge, Lasso\n",
        "from sklearn import metrics\n",
        "import math\n",
        "from sklearn.metrics import classification_report\n",
        "from sklearn.model_selection import GridSearchCV \n",
        "from sklearn.metrics import mean_squared_error\n"
      ]
    },
    {
      "cell_type": "markdown",
      "source": [
        "# *Read* Train **Data**:"
      ],
      "metadata": {
        "id": "erysndRd3L5A"
      }
    },
    {
      "cell_type": "code",
      "source": [
        "train_data= pd.read_csv('Train.csv')\n",
        "train_data.head(10)"
      ],
      "metadata": {
        "colab": {
          "base_uri": "https://localhost:8080/",
          "height": 363
        },
        "id": "YqO9TWN729EG",
        "outputId": "706b4a26-05cf-4516-d456-2cc4149e6dd5"
      },
      "execution_count": 83,
      "outputs": [
        {
          "output_type": "execute_result",
          "data": {
            "text/plain": [
              "            date  Usage_kWh  Lagging_Current_Reactive.Power_kVarh  \\\n",
              "0  1/1/2018 0:15       3.17                                  2.95   \n",
              "1  1/1/2018 0:30       4.00                                  4.46   \n",
              "2  1/1/2018 0:45       3.24                                  3.28   \n",
              "3  1/1/2018 1:00       3.31                                  3.56   \n",
              "4  1/1/2018 1:15       3.82                                  4.50   \n",
              "5  1/1/2018 1:30       3.28                                  3.56   \n",
              "6  1/1/2018 1:45       3.60                                  4.14   \n",
              "7  1/1/2018 2:00       3.60                                  4.28   \n",
              "8  1/1/2018 2:15       3.28                                  3.64   \n",
              "9  1/1/2018 2:30       3.78                                  4.72   \n",
              "\n",
              "   Leading_Current_Reactive_Power_kVarh  CO2(tCO2)  \\\n",
              "0                                   0.0        0.0   \n",
              "1                                   0.0        0.0   \n",
              "2                                   0.0        0.0   \n",
              "3                                   0.0        0.0   \n",
              "4                                   0.0        0.0   \n",
              "5                                   0.0        0.0   \n",
              "6                                   0.0        0.0   \n",
              "7                                   0.0        0.0   \n",
              "8                                   0.0        0.0   \n",
              "9                                   0.0        0.0   \n",
              "\n",
              "   Lagging_Current_Power_Factor  Leading_Current_Power_Factor   NSM  \\\n",
              "0                         73.21                         100.0   900   \n",
              "1                         66.77                         100.0  1800   \n",
              "2                         70.28                         100.0  2700   \n",
              "3                         68.09                         100.0  3600   \n",
              "4                         64.72                         100.0  4500   \n",
              "5                         67.76                         100.0  5400   \n",
              "6                         65.62                         100.0  6300   \n",
              "7                         64.37                         100.0  7200   \n",
              "8                         66.94                         100.0  8100   \n",
              "9                         62.51                         100.0  9000   \n",
              "\n",
              "  WeekStatus Day_of_week   Load_Type  \n",
              "0    Weekday      Monday  Light_Load  \n",
              "1    Weekday      Monday  Light_Load  \n",
              "2    Weekday      Monday  Light_Load  \n",
              "3    Weekday      Monday  Light_Load  \n",
              "4    Weekday      Monday  Light_Load  \n",
              "5    Weekday      Monday  Light_Load  \n",
              "6    Weekday      Monday  Light_Load  \n",
              "7    Weekday      Monday  Light_Load  \n",
              "8    Weekday      Monday  Light_Load  \n",
              "9    Weekday      Monday  Light_Load  "
            ],
            "text/html": [
              "\n",
              "  <div id=\"df-081f5f0d-1eb7-4163-a6a2-9b1d399eef16\">\n",
              "    <div class=\"colab-df-container\">\n",
              "      <div>\n",
              "<style scoped>\n",
              "    .dataframe tbody tr th:only-of-type {\n",
              "        vertical-align: middle;\n",
              "    }\n",
              "\n",
              "    .dataframe tbody tr th {\n",
              "        vertical-align: top;\n",
              "    }\n",
              "\n",
              "    .dataframe thead th {\n",
              "        text-align: right;\n",
              "    }\n",
              "</style>\n",
              "<table border=\"1\" class=\"dataframe\">\n",
              "  <thead>\n",
              "    <tr style=\"text-align: right;\">\n",
              "      <th></th>\n",
              "      <th>date</th>\n",
              "      <th>Usage_kWh</th>\n",
              "      <th>Lagging_Current_Reactive.Power_kVarh</th>\n",
              "      <th>Leading_Current_Reactive_Power_kVarh</th>\n",
              "      <th>CO2(tCO2)</th>\n",
              "      <th>Lagging_Current_Power_Factor</th>\n",
              "      <th>Leading_Current_Power_Factor</th>\n",
              "      <th>NSM</th>\n",
              "      <th>WeekStatus</th>\n",
              "      <th>Day_of_week</th>\n",
              "      <th>Load_Type</th>\n",
              "    </tr>\n",
              "  </thead>\n",
              "  <tbody>\n",
              "    <tr>\n",
              "      <th>0</th>\n",
              "      <td>1/1/2018 0:15</td>\n",
              "      <td>3.17</td>\n",
              "      <td>2.95</td>\n",
              "      <td>0.0</td>\n",
              "      <td>0.0</td>\n",
              "      <td>73.21</td>\n",
              "      <td>100.0</td>\n",
              "      <td>900</td>\n",
              "      <td>Weekday</td>\n",
              "      <td>Monday</td>\n",
              "      <td>Light_Load</td>\n",
              "    </tr>\n",
              "    <tr>\n",
              "      <th>1</th>\n",
              "      <td>1/1/2018 0:30</td>\n",
              "      <td>4.00</td>\n",
              "      <td>4.46</td>\n",
              "      <td>0.0</td>\n",
              "      <td>0.0</td>\n",
              "      <td>66.77</td>\n",
              "      <td>100.0</td>\n",
              "      <td>1800</td>\n",
              "      <td>Weekday</td>\n",
              "      <td>Monday</td>\n",
              "      <td>Light_Load</td>\n",
              "    </tr>\n",
              "    <tr>\n",
              "      <th>2</th>\n",
              "      <td>1/1/2018 0:45</td>\n",
              "      <td>3.24</td>\n",
              "      <td>3.28</td>\n",
              "      <td>0.0</td>\n",
              "      <td>0.0</td>\n",
              "      <td>70.28</td>\n",
              "      <td>100.0</td>\n",
              "      <td>2700</td>\n",
              "      <td>Weekday</td>\n",
              "      <td>Monday</td>\n",
              "      <td>Light_Load</td>\n",
              "    </tr>\n",
              "    <tr>\n",
              "      <th>3</th>\n",
              "      <td>1/1/2018 1:00</td>\n",
              "      <td>3.31</td>\n",
              "      <td>3.56</td>\n",
              "      <td>0.0</td>\n",
              "      <td>0.0</td>\n",
              "      <td>68.09</td>\n",
              "      <td>100.0</td>\n",
              "      <td>3600</td>\n",
              "      <td>Weekday</td>\n",
              "      <td>Monday</td>\n",
              "      <td>Light_Load</td>\n",
              "    </tr>\n",
              "    <tr>\n",
              "      <th>4</th>\n",
              "      <td>1/1/2018 1:15</td>\n",
              "      <td>3.82</td>\n",
              "      <td>4.50</td>\n",
              "      <td>0.0</td>\n",
              "      <td>0.0</td>\n",
              "      <td>64.72</td>\n",
              "      <td>100.0</td>\n",
              "      <td>4500</td>\n",
              "      <td>Weekday</td>\n",
              "      <td>Monday</td>\n",
              "      <td>Light_Load</td>\n",
              "    </tr>\n",
              "    <tr>\n",
              "      <th>5</th>\n",
              "      <td>1/1/2018 1:30</td>\n",
              "      <td>3.28</td>\n",
              "      <td>3.56</td>\n",
              "      <td>0.0</td>\n",
              "      <td>0.0</td>\n",
              "      <td>67.76</td>\n",
              "      <td>100.0</td>\n",
              "      <td>5400</td>\n",
              "      <td>Weekday</td>\n",
              "      <td>Monday</td>\n",
              "      <td>Light_Load</td>\n",
              "    </tr>\n",
              "    <tr>\n",
              "      <th>6</th>\n",
              "      <td>1/1/2018 1:45</td>\n",
              "      <td>3.60</td>\n",
              "      <td>4.14</td>\n",
              "      <td>0.0</td>\n",
              "      <td>0.0</td>\n",
              "      <td>65.62</td>\n",
              "      <td>100.0</td>\n",
              "      <td>6300</td>\n",
              "      <td>Weekday</td>\n",
              "      <td>Monday</td>\n",
              "      <td>Light_Load</td>\n",
              "    </tr>\n",
              "    <tr>\n",
              "      <th>7</th>\n",
              "      <td>1/1/2018 2:00</td>\n",
              "      <td>3.60</td>\n",
              "      <td>4.28</td>\n",
              "      <td>0.0</td>\n",
              "      <td>0.0</td>\n",
              "      <td>64.37</td>\n",
              "      <td>100.0</td>\n",
              "      <td>7200</td>\n",
              "      <td>Weekday</td>\n",
              "      <td>Monday</td>\n",
              "      <td>Light_Load</td>\n",
              "    </tr>\n",
              "    <tr>\n",
              "      <th>8</th>\n",
              "      <td>1/1/2018 2:15</td>\n",
              "      <td>3.28</td>\n",
              "      <td>3.64</td>\n",
              "      <td>0.0</td>\n",
              "      <td>0.0</td>\n",
              "      <td>66.94</td>\n",
              "      <td>100.0</td>\n",
              "      <td>8100</td>\n",
              "      <td>Weekday</td>\n",
              "      <td>Monday</td>\n",
              "      <td>Light_Load</td>\n",
              "    </tr>\n",
              "    <tr>\n",
              "      <th>9</th>\n",
              "      <td>1/1/2018 2:30</td>\n",
              "      <td>3.78</td>\n",
              "      <td>4.72</td>\n",
              "      <td>0.0</td>\n",
              "      <td>0.0</td>\n",
              "      <td>62.51</td>\n",
              "      <td>100.0</td>\n",
              "      <td>9000</td>\n",
              "      <td>Weekday</td>\n",
              "      <td>Monday</td>\n",
              "      <td>Light_Load</td>\n",
              "    </tr>\n",
              "  </tbody>\n",
              "</table>\n",
              "</div>\n",
              "      <button class=\"colab-df-convert\" onclick=\"convertToInteractive('df-081f5f0d-1eb7-4163-a6a2-9b1d399eef16')\"\n",
              "              title=\"Convert this dataframe to an interactive table.\"\n",
              "              style=\"display:none;\">\n",
              "        \n",
              "  <svg xmlns=\"http://www.w3.org/2000/svg\" height=\"24px\"viewBox=\"0 0 24 24\"\n",
              "       width=\"24px\">\n",
              "    <path d=\"M0 0h24v24H0V0z\" fill=\"none\"/>\n",
              "    <path d=\"M18.56 5.44l.94 2.06.94-2.06 2.06-.94-2.06-.94-.94-2.06-.94 2.06-2.06.94zm-11 1L8.5 8.5l.94-2.06 2.06-.94-2.06-.94L8.5 2.5l-.94 2.06-2.06.94zm10 10l.94 2.06.94-2.06 2.06-.94-2.06-.94-.94-2.06-.94 2.06-2.06.94z\"/><path d=\"M17.41 7.96l-1.37-1.37c-.4-.4-.92-.59-1.43-.59-.52 0-1.04.2-1.43.59L10.3 9.45l-7.72 7.72c-.78.78-.78 2.05 0 2.83L4 21.41c.39.39.9.59 1.41.59.51 0 1.02-.2 1.41-.59l7.78-7.78 2.81-2.81c.8-.78.8-2.07 0-2.86zM5.41 20L4 18.59l7.72-7.72 1.47 1.35L5.41 20z\"/>\n",
              "  </svg>\n",
              "      </button>\n",
              "      \n",
              "  <style>\n",
              "    .colab-df-container {\n",
              "      display:flex;\n",
              "      flex-wrap:wrap;\n",
              "      gap: 12px;\n",
              "    }\n",
              "\n",
              "    .colab-df-convert {\n",
              "      background-color: #E8F0FE;\n",
              "      border: none;\n",
              "      border-radius: 50%;\n",
              "      cursor: pointer;\n",
              "      display: none;\n",
              "      fill: #1967D2;\n",
              "      height: 32px;\n",
              "      padding: 0 0 0 0;\n",
              "      width: 32px;\n",
              "    }\n",
              "\n",
              "    .colab-df-convert:hover {\n",
              "      background-color: #E2EBFA;\n",
              "      box-shadow: 0px 1px 2px rgba(60, 64, 67, 0.3), 0px 1px 3px 1px rgba(60, 64, 67, 0.15);\n",
              "      fill: #174EA6;\n",
              "    }\n",
              "\n",
              "    [theme=dark] .colab-df-convert {\n",
              "      background-color: #3B4455;\n",
              "      fill: #D2E3FC;\n",
              "    }\n",
              "\n",
              "    [theme=dark] .colab-df-convert:hover {\n",
              "      background-color: #434B5C;\n",
              "      box-shadow: 0px 1px 3px 1px rgba(0, 0, 0, 0.15);\n",
              "      filter: drop-shadow(0px 1px 2px rgba(0, 0, 0, 0.3));\n",
              "      fill: #FFFFFF;\n",
              "    }\n",
              "  </style>\n",
              "\n",
              "      <script>\n",
              "        const buttonEl =\n",
              "          document.querySelector('#df-081f5f0d-1eb7-4163-a6a2-9b1d399eef16 button.colab-df-convert');\n",
              "        buttonEl.style.display =\n",
              "          google.colab.kernel.accessAllowed ? 'block' : 'none';\n",
              "\n",
              "        async function convertToInteractive(key) {\n",
              "          const element = document.querySelector('#df-081f5f0d-1eb7-4163-a6a2-9b1d399eef16');\n",
              "          const dataTable =\n",
              "            await google.colab.kernel.invokeFunction('convertToInteractive',\n",
              "                                                     [key], {});\n",
              "          if (!dataTable) return;\n",
              "\n",
              "          const docLinkHtml = 'Like what you see? Visit the ' +\n",
              "            '<a target=\"_blank\" href=https://colab.research.google.com/notebooks/data_table.ipynb>data table notebook</a>'\n",
              "            + ' to learn more about interactive tables.';\n",
              "          element.innerHTML = '';\n",
              "          dataTable['output_type'] = 'display_data';\n",
              "          await google.colab.output.renderOutput(dataTable, element);\n",
              "          const docLink = document.createElement('div');\n",
              "          docLink.innerHTML = docLinkHtml;\n",
              "          element.appendChild(docLink);\n",
              "        }\n",
              "      </script>\n",
              "    </div>\n",
              "  </div>\n",
              "  "
            ]
          },
          "metadata": {},
          "execution_count": 83
        }
      ]
    },
    {
      "cell_type": "code",
      "source": [
        "train_data.shape"
      ],
      "metadata": {
        "colab": {
          "base_uri": "https://localhost:8080/"
        },
        "id": "3u50jJNp4Jvy",
        "outputId": "3e07789f-9fc5-4c3c-d094-130faf559282"
      },
      "execution_count": 84,
      "outputs": [
        {
          "output_type": "execute_result",
          "data": {
            "text/plain": [
              "(27999, 11)"
            ]
          },
          "metadata": {},
          "execution_count": 84
        }
      ]
    },
    {
      "cell_type": "markdown",
      "source": [
        "# **preprocessing Train Data**:"
      ],
      "metadata": {
        "id": "Kexrd4xhCKxx"
      }
    },
    {
      "cell_type": "code",
      "source": [
        "train_data.isna().sum()"
      ],
      "metadata": {
        "colab": {
          "base_uri": "https://localhost:8080/"
        },
        "id": "uowZdLGZCd0e",
        "outputId": "6de36847-6536-43a1-f2b1-366c3d3d7621"
      },
      "execution_count": 85,
      "outputs": [
        {
          "output_type": "execute_result",
          "data": {
            "text/plain": [
              "date                                       0\n",
              "Usage_kWh                                  0\n",
              "Lagging_Current_Reactive.Power_kVarh       0\n",
              "Leading_Current_Reactive_Power_kVarh     119\n",
              "CO2(tCO2)                                  0\n",
              "Lagging_Current_Power_Factor               0\n",
              "Leading_Current_Power_Factor              76\n",
              "NSM                                        0\n",
              "WeekStatus                              1774\n",
              "Day_of_week                             1774\n",
              "Load_Type                                  0\n",
              "dtype: int64"
            ]
          },
          "metadata": {},
          "execution_count": 85
        }
      ]
    },
    {
      "cell_type": "code",
      "source": [
        "train_data['Leading_Current_Reactive_Power_kVarh'].describe()"
      ],
      "metadata": {
        "colab": {
          "base_uri": "https://localhost:8080/"
        },
        "id": "SHWHlZhlCd3U",
        "outputId": "7fea21f1-3e80-4490-f1ba-9de6a1a37dd8"
      },
      "execution_count": 86,
      "outputs": [
        {
          "output_type": "execute_result",
          "data": {
            "text/plain": [
              "count    27880.000000\n",
              "mean         3.881065\n",
              "std          7.495718\n",
              "min          0.000000\n",
              "25%          0.000000\n",
              "50%          0.000000\n",
              "75%          2.230000\n",
              "max         27.760000\n",
              "Name: Leading_Current_Reactive_Power_kVarh, dtype: float64"
            ]
          },
          "metadata": {},
          "execution_count": 86
        }
      ]
    },
    {
      "cell_type": "code",
      "source": [
        "train_data['Leading_Current_Reactive_Power_kVarh'].fillna(method='ffill', inplace=True) # Fill null values with forward fill"
      ],
      "metadata": {
        "id": "hM4APW1TEgQw"
      },
      "execution_count": 87,
      "outputs": []
    },
    {
      "cell_type": "code",
      "source": [
        "train_data['Leading_Current_Power_Factor'].describe()"
      ],
      "metadata": {
        "colab": {
          "base_uri": "https://localhost:8080/"
        },
        "id": "LKQSlLmrEwhT",
        "outputId": "2967ba1b-99bf-4425-a0ff-9f3d790443e9"
      },
      "execution_count": 88,
      "outputs": [
        {
          "output_type": "execute_result",
          "data": {
            "text/plain": [
              "count    27923.000000\n",
              "mean        84.479796\n",
              "std         30.422037\n",
              "min         12.500000\n",
              "25%         99.810000\n",
              "50%        100.000000\n",
              "75%        100.000000\n",
              "max        100.000000\n",
              "Name: Leading_Current_Power_Factor, dtype: float64"
            ]
          },
          "metadata": {},
          "execution_count": 88
        }
      ]
    },
    {
      "cell_type": "code",
      "source": [
        "train_data['Leading_Current_Power_Factor'].fillna(method='ffill', inplace=True) # Fill null values with forward fill"
      ],
      "metadata": {
        "id": "rAsYtowCCd9M"
      },
      "execution_count": 89,
      "outputs": []
    },
    {
      "cell_type": "code",
      "source": [
        "train_data['WeekStatus'].describe()"
      ],
      "metadata": {
        "colab": {
          "base_uri": "https://localhost:8080/"
        },
        "id": "7Sabe1fWCeI1",
        "outputId": "2292bedf-1b06-42d0-fa92-4ab5811ecdc8"
      },
      "execution_count": 90,
      "outputs": [
        {
          "output_type": "execute_result",
          "data": {
            "text/plain": [
              "count       26225\n",
              "unique          2\n",
              "top       Weekday\n",
              "freq        18929\n",
              "Name: WeekStatus, dtype: object"
            ]
          },
          "metadata": {},
          "execution_count": 90
        }
      ]
    },
    {
      "cell_type": "code",
      "source": [
        "ax = train_data['WeekStatus'].value_counts().plot(kind='bar')\n",
        "plt.title('Original distribution')\n",
        "plt.xlabel('Load Type')\n",
        "plt.ylabel('Count')\n",
        "for i, count in enumerate(train_data['WeekStatus'].value_counts()):\n",
        "    ax.text(i, count+1, str(count), ha='center', va='bottom')\n",
        "\n",
        "plt.show()"
      ],
      "metadata": {
        "colab": {
          "base_uri": "https://localhost:8080/",
          "height": 522
        },
        "id": "6-h9qxyhLeBD",
        "outputId": "af9d375c-e03b-47cf-945f-7a01d8a7e8d0"
      },
      "execution_count": 91,
      "outputs": [
        {
          "output_type": "display_data",
          "data": {
            "text/plain": [
              "<Figure size 640x480 with 1 Axes>"
            ],
            "image/png": "[encoded data removed]"
          },
          "metadata": {}
        }
      ]
    },
    {
      "cell_type": "code",
      "source": [
        "train_data['WeekStatus'].fillna('Weekday', inplace=True) # Fill null values with top value in dataset"
      ],
      "metadata": {
        "id": "d4nXqDwiCeyw"
      },
      "execution_count": 92,
      "outputs": []
    },
    {
      "cell_type": "code",
      "source": [
        "train_data['Day_of_week'].describe()"
      ],
      "metadata": {
        "colab": {
          "base_uri": "https://localhost:8080/"
        },
        "id": "Iax0c73qIEDO",
        "outputId": "1d38703f-5646-4108-8587-3b9b1d688400"
      },
      "execution_count": 93,
      "outputs": [
        {
          "output_type": "execute_result",
          "data": {
            "text/plain": [
              "count       26225\n",
              "unique          7\n",
              "top       Tuesday\n",
              "freq         3840\n",
              "Name: Day_of_week, dtype: object"
            ]
          },
          "metadata": {},
          "execution_count": 93
        }
      ]
    },
    {
      "cell_type": "code",
      "source": [
        "ax = train_data['Day_of_week'].value_counts().plot(kind='bar')\n",
        "plt.title('Original distribution')\n",
        "plt.xlabel('Day of week')\n",
        "plt.ylabel('Count')\n",
        "\n",
        "# Annotate the bars with their counts\n",
        "for i, count in enumerate(train_data['Day_of_week'].value_counts()):\n",
        "    ax.text(i, count+1, str(count), ha='center', va='bottom')\n",
        "\n",
        "plt.show()"
      ],
      "metadata": {
        "colab": {
          "base_uri": "https://localhost:8080/",
          "height": 538
        },
        "id": "q58AQWRjIEGP",
        "outputId": "0518b618-fd33-4e02-be3f-5838b3e3c00d"
      },
      "execution_count": 94,
      "outputs": [
        {
          "output_type": "display_data",
          "data": {
            "text/plain": [
              "<Figure size 640x480 with 1 Axes>"
            ],
            "image/png": "[encoded data removed]"
          },
          "metadata": {}
        }
      ]
    },
    {
      "cell_type": "code",
      "source": [
        "# Convert 'date' column to datetime format\n",
        "train_data['date'] = pd.to_datetime(train_data['date'])\n",
        "\n",
        "# Fill null values in 'day_of_week' column using 'date' column\n",
        "train_data['Day_of_week'] = train_data['Day_of_week'].fillna(train_data['date'].dt.day_name())"
      ],
      "metadata": {
        "id": "ZBYO_1mbrQ6D"
      },
      "execution_count": 95,
      "outputs": []
    },
    {
      "cell_type": "code",
      "source": [
        "# Create a bar plot of the distribution after filling in missing values\n",
        "ax = train_data['Day_of_week'].value_counts().plot(kind='bar')\n",
        "plt.title('Original distribution')\n",
        "plt.xlabel('Day of week')\n",
        "plt.ylabel('Count')\n",
        "\n",
        "# Annotate the bars with their counts\n",
        "for i, count in enumerate(train_data['Day_of_week'].value_counts()):\n",
        "    ax.text(i, count+1, str(count), ha='center', va='bottom')\n",
        "\n",
        "plt.show()"
      ],
      "metadata": {
        "colab": {
          "base_uri": "https://localhost:8080/",
          "height": 538
        },
        "id": "qKRM_hzcIEI1",
        "outputId": "e95ac9d9-8574-4434-9505-1d329969fe82"
      },
      "execution_count": 96,
      "outputs": [
        {
          "output_type": "display_data",
          "data": {
            "text/plain": [
              "<Figure size 640x480 with 1 Axes>"
            ],
            "image/png": "[encoded data removed]"
          },
          "metadata": {}
        }
      ]
    },
    {
      "cell_type": "code",
      "source": [
        "train_data['Load_Type'].describe()"
      ],
      "metadata": {
        "id": "FRgwSVhhIEL7",
        "colab": {
          "base_uri": "https://localhost:8080/"
        },
        "outputId": "8b3b33a9-0d2b-4b66-987a-66840753ffa0"
      },
      "execution_count": 97,
      "outputs": [
        {
          "output_type": "execute_result",
          "data": {
            "text/plain": [
              "count          27999\n",
              "unique             3\n",
              "top       Light_Load\n",
              "freq           14364\n",
              "Name: Load_Type, dtype: object"
            ]
          },
          "metadata": {},
          "execution_count": 97
        }
      ]
    },
    {
      "cell_type": "code",
      "source": [
        "ax = train_data['Load_Type'].value_counts().plot(kind='bar')\n",
        "plt.title('Original distribution')\n",
        "plt.xlabel('Load Type')\n",
        "plt.ylabel('Count')\n",
        "for i, count in enumerate(train_data['Load_Type'].value_counts()):\n",
        "    ax.text(i, count+1, str(count), ha='center', va='bottom')\n",
        "\n",
        "plt.show()"
      ],
      "metadata": {
        "id": "2J9SeCSJIEPR",
        "colab": {
          "base_uri": "https://localhost:8080/",
          "height": 567
        },
        "outputId": "a55d0e0b-cdcc-4781-ad9c-91229b63fcfb"
      },
      "execution_count": 98,
      "outputs": [
        {
          "output_type": "display_data",
          "data": {
            "text/plain": [
              "<Figure size 640x480 with 1 Axes>"
            ],
            "image/png": "[encoded data removed]"
          },
          "metadata": {}
        }
      ]
    },
    {
      "cell_type": "code",
      "source": [
        "train_data.isna().sum()\n"
      ],
      "metadata": {
        "colab": {
          "base_uri": "https://localhost:8080/"
        },
        "id": "5cD2lKZHgQbU",
        "outputId": "e927fae1-2d61-4b64-f4ff-a21d6233f6fa"
      },
      "execution_count": 99,
      "outputs": [
        {
          "output_type": "execute_result",
          "data": {
            "text/plain": [
              "date                                    0\n",
              "Usage_kWh                               0\n",
              "Lagging_Current_Reactive.Power_kVarh    0\n",
              "Leading_Current_Reactive_Power_kVarh    0\n",
              "CO2(tCO2)                               0\n",
              "Lagging_Current_Power_Factor            0\n",
              "Leading_Current_Power_Factor            0\n",
              "NSM                                     0\n",
              "WeekStatus                              0\n",
              "Day_of_week                             0\n",
              "Load_Type                               0\n",
              "dtype: int64"
            ]
          },
          "metadata": {},
          "execution_count": 99
        }
      ]
    },
    {
      "cell_type": "code",
      "source": [
        "train_data.shape"
      ],
      "metadata": {
        "colab": {
          "base_uri": "https://localhost:8080/"
        },
        "id": "l0Yg37UcgdUq",
        "outputId": "5dc5548c-5c10-4ca5-a930-6428ef67100f"
      },
      "execution_count": 100,
      "outputs": [
        {
          "output_type": "execute_result",
          "data": {
            "text/plain": [
              "(27999, 11)"
            ]
          },
          "metadata": {},
          "execution_count": 100
        }
      ]
    },
    {
      "cell_type": "code",
      "source": [],
      "metadata": {
        "id": "vtCN_U5ggdYK"
      },
      "execution_count": 100,
      "outputs": []
    },
    {
      "cell_type": "markdown",
      "source": [
        "# **Feature Engineering**"
      ],
      "metadata": {
        "id": "M3KaYq9mgPU6"
      }
    },
    {
      "cell_type": "code",
      "source": [
        "# Convert the date and time column to datetime format\n",
        "train_data['date'] = pd.to_datetime(train_data['date'])\n",
        "# Calculate the Unix timestamp in seconds\n",
        "train_data['unix_timestamp'] = (train_data['date'] - dt.datetime(1970,1,1)).dt.total_seconds()\n",
        "# Drop the original datetime column if desired\n",
        "train_data = train_data.drop('date', axis=1)"
      ],
      "metadata": {
        "id": "mR2aNDUruVGB"
      },
      "execution_count": 101,
      "outputs": []
    },
    {
      "cell_type": "markdown",
      "source": [
        "**encoding**\n"
      ],
      "metadata": {
        "id": "kOd0IbUiJy2t"
      }
    },
    {
      "cell_type": "code",
      "source": [
        "train_data = pd.get_dummies(train_data, columns=['Day_of_week'])\n",
        "train_data = pd.get_dummies(train_data, columns=['WeekStatus'])"
      ],
      "metadata": {
        "id": "0ALAyy3YnoFu"
      },
      "execution_count": 102,
      "outputs": []
    },
    {
      "cell_type": "code",
      "source": [
        "train_data['Load_Type']= label.fit_transform(train_data['Load_Type'])\n",
        "#train_data['date']= label.fit_transform(train_data['date'])"
      ],
      "metadata": {
        "id": "bhzPIUjsnsk6"
      },
      "execution_count": 103,
      "outputs": []
    },
    {
      "cell_type": "code",
      "source": [
        "train_data.head()"
      ],
      "metadata": {
        "id": "T9CEbyZmIEbB",
        "colab": {
          "base_uri": "https://localhost:8080/",
          "height": 270
        },
        "outputId": "450237a2-f43a-42a3-f5e6-f704a3789b61"
      },
      "execution_count": 104,
      "outputs": [
        {
          "output_type": "execute_result",
          "data": {
            "text/plain": [
              "   Usage_kWh  Lagging_Current_Reactive.Power_kVarh  \\\n",
              "0       3.17                                  2.95   \n",
              "1       4.00                                  4.46   \n",
              "2       3.24                                  3.28   \n",
              "3       3.31                                  3.56   \n",
              "4       3.82                                  4.50   \n",
              "\n",
              "   Leading_Current_Reactive_Power_kVarh  CO2(tCO2)  \\\n",
              "0                                   0.0        0.0   \n",
              "1                                   0.0        0.0   \n",
              "2                                   0.0        0.0   \n",
              "3                                   0.0        0.0   \n",
              "4                                   0.0        0.0   \n",
              "\n",
              "   Lagging_Current_Power_Factor  Leading_Current_Power_Factor   NSM  \\\n",
              "0                         73.21                         100.0   900   \n",
              "1                         66.77                         100.0  1800   \n",
              "2                         70.28                         100.0  2700   \n",
              "3                         68.09                         100.0  3600   \n",
              "4                         64.72                         100.0  4500   \n",
              "\n",
              "   Load_Type  unix_timestamp  Day_of_week_Friday  Day_of_week_Monday  \\\n",
              "0          0    1.514766e+09                   0                   1   \n",
              "1          0    1.514767e+09                   0                   1   \n",
              "2          0    1.514768e+09                   0                   1   \n",
              "3          0    1.514768e+09                   0                   1   \n",
              "4          0    1.514769e+09                   0                   1   \n",
              "\n",
              "   Day_of_week_Saturday  Day_of_week_Sunday  Day_of_week_Thursday  \\\n",
              "0                     0                   0                     0   \n",
              "1                     0                   0                     0   \n",
              "2                     0                   0                     0   \n",
              "3                     0                   0                     0   \n",
              "4                     0                   0                     0   \n",
              "\n",
              "   Day_of_week_Tuesday  Day_of_week_Wednesday  WeekStatus_Weekday  \\\n",
              "0                    0                      0                   1   \n",
              "1                    0                      0                   1   \n",
              "2                    0                      0                   1   \n",
              "3                    0                      0                   1   \n",
              "4                    0                      0                   1   \n",
              "\n",
              "   WeekStatus_Weekend  \n",
              "0                   0  \n",
              "1                   0  \n",
              "2                   0  \n",
              "3                   0  \n",
              "4                   0  "
            ],
            "text/html": [
              "\n",
              "  <div id=\"df-bbc03dee-d109-4feb-84c9-1987a7b21dc5\">\n",
              "    <div class=\"colab-df-container\">\n",
              "      <div>\n",
              "<style scoped>\n",
              "    .dataframe tbody tr th:only-of-type {\n",
              "        vertical-align: middle;\n",
              "    }\n",
              "\n",
              "    .dataframe tbody tr th {\n",
              "        vertical-align: top;\n",
              "    }\n",
              "\n",
              "    .dataframe thead th {\n",
              "        text-align: right;\n",
              "    }\n",
              "</style>\n",
              "<table border=\"1\" class=\"dataframe\">\n",
              "  <thead>\n",
              "    <tr style=\"text-align: right;\">\n",
              "      <th></th>\n",
              "      <th>Usage_kWh</th>\n",
              "      <th>Lagging_Current_Reactive.Power_kVarh</th>\n",
              "      <th>Leading_Current_Reactive_Power_kVarh</th>\n",
              "      <th>CO2(tCO2)</th>\n",
              "      <th>Lagging_Current_Power_Factor</th>\n",
              "      <th>Leading_Current_Power_Factor</th>\n",
              "      <th>NSM</th>\n",
              "      <th>Load_Type</th>\n",
              "      <th>unix_timestamp</th>\n",
              "      <th>Day_of_week_Friday</th>\n",
              "      <th>Day_of_week_Monday</th>\n",
              "      <th>Day_of_week_Saturday</th>\n",
              "      <th>Day_of_week_Sunday</th>\n",
              "      <th>Day_of_week_Thursday</th>\n",
              "      <th>Day_of_week_Tuesday</th>\n",
              "      <th>Day_of_week_Wednesday</th>\n",
              "      <th>WeekStatus_Weekday</th>\n",
              "      <th>WeekStatus_Weekend</th>\n",
              "    </tr>\n",
              "  </thead>\n",
              "  <tbody>\n",
              "    <tr>\n",
              "      <th>0</th>\n",
              "      <td>3.17</td>\n",
              "      <td>2.95</td>\n",
              "      <td>0.0</td>\n",
              "      <td>0.0</td>\n",
              "      <td>73.21</td>\n",
              "      <td>100.0</td>\n",
              "      <td>900</td>\n",
              "      <td>0</td>\n",
              "      <td>1.514766e+09</td>\n",
              "      <td>0</td>\n",
              "      <td>1</td>\n",
              "      <td>0</td>\n",
              "      <td>0</td>\n",
              "      <td>0</td>\n",
              "      <td>0</td>\n",
              "      <td>0</td>\n",
              "      <td>1</td>\n",
              "      <td>0</td>\n",
              "    </tr>\n",
              "    <tr>\n",
              "      <th>1</th>\n",
              "      <td>4.00</td>\n",
              "      <td>4.46</td>\n",
              "      <td>0.0</td>\n",
              "      <td>0.0</td>\n",
              "      <td>66.77</td>\n",
              "      <td>100.0</td>\n",
              "      <td>1800</td>\n",
              "      <td>0</td>\n",
              "      <td>1.514767e+09</td>\n",
              "      <td>0</td>\n",
              "      <td>1</td>\n",
              "      <td>0</td>\n",
              "      <td>0</td>\n",
              "      <td>0</td>\n",
              "      <td>0</td>\n",
              "      <td>0</td>\n",
              "      <td>1</td>\n",
              "      <td>0</td>\n",
              "    </tr>\n",
              "    <tr>\n",
              "      <th>2</th>\n",
              "      <td>3.24</td>\n",
              "      <td>3.28</td>\n",
              "      <td>0.0</td>\n",
              "      <td>0.0</td>\n",
              "      <td>70.28</td>\n",
              "      <td>100.0</td>\n",
              "      <td>2700</td>\n",
              "      <td>0</td>\n",
              "      <td>1.514768e+09</td>\n",
              "      <td>0</td>\n",
              "      <td>1</td>\n",
              "      <td>0</td>\n",
              "      <td>0</td>\n",
              "      <td>0</td>\n",
              "      <td>0</td>\n",
              "      <td>0</td>\n",
              "      <td>1</td>\n",
              "      <td>0</td>\n",
              "    </tr>\n",
              "    <tr>\n",
              "      <th>3</th>\n",
              "      <td>3.31</td>\n",
              "      <td>3.56</td>\n",
              "      <td>0.0</td>\n",
              "      <td>0.0</td>\n",
              "      <td>68.09</td>\n",
              "      <td>100.0</td>\n",
              "      <td>3600</td>\n",
              "      <td>0</td>\n",
              "      <td>1.514768e+09</td>\n",
              "      <td>0</td>\n",
              "      <td>1</td>\n",
              "      <td>0</td>\n",
              "      <td>0</td>\n",
              "      <td>0</td>\n",
              "      <td>0</td>\n",
              "      <td>0</td>\n",
              "      <td>1</td>\n",
              "      <td>0</td>\n",
              "    </tr>\n",
              "    <tr>\n",
              "      <th>4</th>\n",
              "      <td>3.82</td>\n",
              "      <td>4.50</td>\n",
              "      <td>0.0</td>\n",
              "      <td>0.0</td>\n",
              "      <td>64.72</td>\n",
              "      <td>100.0</td>\n",
              "      <td>4500</td>\n",
              "      <td>0</td>\n",
              "      <td>1.514769e+09</td>\n",
              "      <td>0</td>\n",
              "      <td>1</td>\n",
              "      <td>0</td>\n",
              "      <td>0</td>\n",
              "      <td>0</td>\n",
              "      <td>0</td>\n",
              "      <td>0</td>\n",
              "      <td>1</td>\n",
              "      <td>0</td>\n",
              "    </tr>\n",
              "  </tbody>\n",
              "</table>\n",
              "</div>\n",
              "      <button class=\"colab-df-convert\" onclick=\"convertToInteractive('df-bbc03dee-d109-4feb-84c9-1987a7b21dc5')\"\n",
              "              title=\"Convert this dataframe to an interactive table.\"\n",
              "              style=\"display:none;\">\n",
              "        \n",
              "  <svg xmlns=\"http://www.w3.org/2000/svg\" height=\"24px\"viewBox=\"0 0 24 24\"\n",
              "       width=\"24px\">\n",
              "    <path d=\"M0 0h24v24H0V0z\" fill=\"none\"/>\n",
              "    <path d=\"M18.56 5.44l.94 2.06.94-2.06 2.06-.94-2.06-.94-.94-2.06-.94 2.06-2.06.94zm-11 1L8.5 8.5l.94-2.06 2.06-.94-2.06-.94L8.5 2.5l-.94 2.06-2.06.94zm10 10l.94 2.06.94-2.06 2.06-.94-2.06-.94-.94-2.06-.94 2.06-2.06.94z\"/><path d=\"M17.41 7.96l-1.37-1.37c-.4-.4-.92-.59-1.43-.59-.52 0-1.04.2-1.43.59L10.3 9.45l-7.72 7.72c-.78.78-.78 2.05 0 2.83L4 21.41c.39.39.9.59 1.41.59.51 0 1.02-.2 1.41-.59l7.78-7.78 2.81-2.81c.8-.78.8-2.07 0-2.86zM5.41 20L4 18.59l7.72-7.72 1.47 1.35L5.41 20z\"/>\n",
              "  </svg>\n",
              "      </button>\n",
              "      \n",
              "  <style>\n",
              "    .colab-df-container {\n",
              "      display:flex;\n",
              "      flex-wrap:wrap;\n",
              "      gap: 12px;\n",
              "    }\n",
              "\n",
              "    .colab-df-convert {\n",
              "      background-color: #E8F0FE;\n",
              "      border: none;\n",
              "      border-radius: 50%;\n",
              "      cursor: pointer;\n",
              "      display: none;\n",
              "      fill: #1967D2;\n",
              "      height: 32px;\n",
              "      padding: 0 0 0 0;\n",
              "      width: 32px;\n",
              "    }\n",
              "\n",
              "    .colab-df-convert:hover {\n",
              "      background-color: #E2EBFA;\n",
              "      box-shadow: 0px 1px 2px rgba(60, 64, 67, 0.3), 0px 1px 3px 1px rgba(60, 64, 67, 0.15);\n",
              "      fill: #174EA6;\n",
              "    }\n",
              "\n",
              "    [theme=dark] .colab-df-convert {\n",
              "      background-color: #3B4455;\n",
              "      fill: #D2E3FC;\n",
              "    }\n",
              "\n",
              "    [theme=dark] .colab-df-convert:hover {\n",
              "      background-color: #434B5C;\n",
              "      box-shadow: 0px 1px 3px 1px rgba(0, 0, 0, 0.15);\n",
              "      filter: drop-shadow(0px 1px 2px rgba(0, 0, 0, 0.3));\n",
              "      fill: #FFFFFF;\n",
              "    }\n",
              "  </style>\n",
              "\n",
              "      <script>\n",
              "        const buttonEl =\n",
              "          document.querySelector('#df-bbc03dee-d109-4feb-84c9-1987a7b21dc5 button.colab-df-convert');\n",
              "        buttonEl.style.display =\n",
              "          google.colab.kernel.accessAllowed ? 'block' : 'none';\n",
              "\n",
              "        async function convertToInteractive(key) {\n",
              "          const element = document.querySelector('#df-bbc03dee-d109-4feb-84c9-1987a7b21dc5');\n",
              "          const dataTable =\n",
              "            await google.colab.kernel.invokeFunction('convertToInteractive',\n",
              "                                                     [key], {});\n",
              "          if (!dataTable) return;\n",
              "\n",
              "          const docLinkHtml = 'Like what you see? Visit the ' +\n",
              "            '<a target=\"_blank\" href=https://colab.research.google.com/notebooks/data_table.ipynb>data table notebook</a>'\n",
              "            + ' to learn more about interactive tables.';\n",
              "          element.innerHTML = '';\n",
              "          dataTable['output_type'] = 'display_data';\n",
              "          await google.colab.output.renderOutput(dataTable, element);\n",
              "          const docLink = document.createElement('div');\n",
              "          docLink.innerHTML = docLinkHtml;\n",
              "          element.appendChild(docLink);\n",
              "        }\n",
              "      </script>\n",
              "    </div>\n",
              "  </div>\n",
              "  "
            ]
          },
          "metadata": {},
          "execution_count": 104
        }
      ]
    },
    {
      "cell_type": "markdown",
      "source": [
        "# **Spliting Data**"
      ],
      "metadata": {
        "id": "vwJ_FcNlRz6f"
      }
    },
    {
      "cell_type": "code",
      "source": [
        "train_data.shape"
      ],
      "metadata": {
        "id": "V9p-Yuy6Ce1s",
        "colab": {
          "base_uri": "https://localhost:8080/"
        },
        "outputId": "5c46a281-af5b-47b1-e3dc-cdc921e3e22b"
      },
      "execution_count": 105,
      "outputs": [
        {
          "output_type": "execute_result",
          "data": {
            "text/plain": [
              "(27999, 18)"
            ]
          },
          "metadata": {},
          "execution_count": 105
        }
      ]
    },
    {
      "cell_type": "code",
      "source": [
        "Y = train_data['Usage_kWh']\n",
        "train_data.drop(['Usage_kWh'], axis = 1, inplace = True)"
      ],
      "metadata": {
        "id": "lbBGkHorCe5W"
      },
      "execution_count": 106,
      "outputs": []
    },
    {
      "cell_type": "code",
      "source": [
        "train_data.shape"
      ],
      "metadata": {
        "id": "J2I0ArG_29Nm",
        "colab": {
          "base_uri": "https://localhost:8080/"
        },
        "outputId": "1bd7b8c1-6eb7-4cf6-b8c8-75e9a942e6ab"
      },
      "execution_count": 107,
      "outputs": [
        {
          "output_type": "execute_result",
          "data": {
            "text/plain": [
              "(27999, 17)"
            ]
          },
          "metadata": {},
          "execution_count": 107
        }
      ]
    },
    {
      "cell_type": "code",
      "source": [
        "X_train, X_test, Y_train, Y_test = train_test_split(train_data, Y, test_size = 0.2, random_state = 0)\n"
      ],
      "metadata": {
        "id": "J644OHne29XR"
      },
      "execution_count": 108,
      "outputs": []
    },
    {
      "cell_type": "code",
      "source": [],
      "metadata": {
        "id": "RryIPjSj29Z1"
      },
      "execution_count": 108,
      "outputs": []
    },
    {
      "cell_type": "code",
      "source": [],
      "metadata": {
        "id": "M_4cUgk829dl"
      },
      "execution_count": 108,
      "outputs": []
    },
    {
      "cell_type": "markdown",
      "source": [
        "# **Train Model**"
      ],
      "metadata": {
        "id": "4wwRaf1GTBSv"
      }
    },
    {
      "cell_type": "markdown",
      "source": [
        "Linear Regression"
      ],
      "metadata": {
        "id": "7HoQw-BirIAD"
      }
    },
    {
      "cell_type": "code",
      "source": [
        "regressor1 = LinearRegression()\n",
        "regressor1.fit(X_train, Y_train)\n",
        "y_pred = regressor1.predict(X_test)\n",
        "score2 = round(regressor1.score(X_train, Y_train) * 100, 2)\n",
        "print(\"Train Score\",score2)\n",
        "print('Mean Absolute Error : ', metrics.mean_absolute_error(Y_test, y_pred))\n",
        "print('Mean Squared Error : ', metrics.mean_squared_error(Y_test, y_pred))\n",
        "print('Root Mean Squared Error : ', math.sqrt(metrics.mean_squared_error(Y_test, y_pred)))\n"
      ],
      "metadata": {
        "colab": {
          "base_uri": "https://localhost:8080/"
        },
        "id": "aRjcYJmtnjsB",
        "outputId": "d8a5cd2c-e867-418d-e830-bb22e1953fc6"
      },
      "execution_count": 109,
      "outputs": [
        {
          "output_type": "stream",
          "name": "stdout",
          "text": [
            "Train Score 97.98\n",
            "Mean Absolute Error :  2.7629682485506573\n",
            "Mean Squared Error :  27.706210630063204\n",
            "Root Mean Squared Error :  5.263668932414272\n"
          ]
        }
      ]
    },
    {
      "cell_type": "code",
      "source": [
        "regressor2 = LinearRegression(fit_intercept= True ,positive = False, copy_X= False)\n",
        "regressor2.fit(X_train, Y_train)\n",
        "y_pred = regressor2.predict(X_test)\n",
        "score2 = round(regressor2.score(X_train, Y_train) * 100, 2)\n",
        "print(\"Train Score\",score2)\n",
        "print('Mean Absolute Error : ', metrics.mean_absolute_error(Y_test, y_pred))\n",
        "print('Mean Squared Error : ', metrics.mean_squared_error(Y_test, y_pred))\n",
        "print('Root Mean Squared Error : ', math.sqrt(metrics.mean_squared_error(Y_test, y_pred)))\n"
      ],
      "metadata": {
        "colab": {
          "base_uri": "https://localhost:8080/"
        },
        "id": "DRWdO6GWrQ6_",
        "outputId": "a9220022-3a5a-4aed-ffb7-c93693c3c08a"
      },
      "execution_count": 110,
      "outputs": [
        {
          "output_type": "stream",
          "name": "stdout",
          "text": [
            "Train Score 97.98\n",
            "Mean Absolute Error :  2.7629682485506573\n",
            "Mean Squared Error :  27.706210630063204\n",
            "Root Mean Squared Error :  5.263668932414272\n"
          ]
        }
      ]
    },
    {
      "cell_type": "markdown",
      "source": [
        "Ridge Model"
      ],
      "metadata": {
        "id": "Y_Uoz-_YrOOb"
      }
    },
    {
      "cell_type": "code",
      "source": [
        "from sklearn.linear_model import Ridge\n",
        "\n",
        "regressor3 = Ridge()\n",
        "regressor3.fit(X_train, Y_train)\n",
        "y_pred2 = regressor3.predict(X_test)\n",
        "score2 = round(regressor3.score(X_train, Y_train) * 100, 2)\n",
        "print(\"Train Score\",score2)\n",
        "print('Mean Absolute Error : ', metrics.mean_absolute_error(Y_test, y_pred2))\n",
        "print('Mean Squared Error : ', metrics.mean_squared_error(Y_test, y_pred2))\n",
        "print('Root Mean Squared Error : ', math.sqrt(metrics.mean_squared_error(Y_test, y_pred2)))"
      ],
      "metadata": {
        "colab": {
          "base_uri": "https://localhost:8080/"
        },
        "id": "Vd3krBEbq016",
        "outputId": "7ce85314-6a12-4a3b-ae97-68d7a8c621fc"
      },
      "execution_count": 111,
      "outputs": [
        {
          "output_type": "stream",
          "name": "stdout",
          "text": [
            "Train Score 95.45\n",
            "Mean Absolute Error :  5.163183064253878\n",
            "Mean Squared Error :  54.9138509858108\n",
            "Root Mean Squared Error :  7.410388045562176\n"
          ]
        },
        {
          "output_type": "stream",
          "name": "stderr",
          "text": [
            "/usr/local/lib/python3.9/dist-packages/sklearn/linear_model/_ridge.py:216: LinAlgWarning: Ill-conditioned matrix (rcond=6.94646e-19): result may not be accurate.\n",
            "  return linalg.solve(A, Xy, assume_a=\"pos\", overwrite_a=True).T\n"
          ]
        }
      ]
    },
    {
      "cell_type": "code",
      "source": [
        "from sklearn.linear_model import Ridge\n",
        "\n",
        "regressor4 = Ridge(alpha= 0.0001)\n",
        "regressor4.fit(X_train, Y_train)\n",
        "y_pred2 = regressor4.predict(X_test)\n",
        "score2 = round(regressor4.score(X_train, Y_train) * 100, 2)\n",
        "print(\"Train Score\",score2)\n",
        "print('Mean Absolute Error : ', metrics.mean_absolute_error(Y_test, y_pred2))\n",
        "print('Mean Squared Error : ', metrics.mean_squared_error(Y_test, y_pred2))\n",
        "print('Root Mean Squared Error : ', math.sqrt(metrics.mean_squared_error(Y_test, y_pred2)))"
      ],
      "metadata": {
        "colab": {
          "base_uri": "https://localhost:8080/"
        },
        "id": "8HV3OtxWpy-D",
        "outputId": "47c894b7-fd88-46cd-b3ba-f914c2c8ed82"
      },
      "execution_count": 112,
      "outputs": [
        {
          "output_type": "stream",
          "name": "stdout",
          "text": [
            "Train Score 97.98\n",
            "Mean Absolute Error :  2.763206347283567\n",
            "Mean Squared Error :  27.70538982340548\n",
            "Root Mean Squared Error :  5.263590962774889\n"
          ]
        },
        {
          "output_type": "stream",
          "name": "stderr",
          "text": [
            "/usr/local/lib/python3.9/dist-packages/sklearn/linear_model/_ridge.py:216: LinAlgWarning: Ill-conditioned matrix (rcond=6.95404e-23): result may not be accurate.\n",
            "  return linalg.solve(A, Xy, assume_a=\"pos\", overwrite_a=True).T\n"
          ]
        }
      ]
    },
    {
      "cell_type": "code",
      "source": [
        "from sklearn import linear_model\n",
        "\n",
        "regressor5 = linear_model.Lasso()\n",
        "regressor5.fit(X_train, Y_train)\n",
        "y_pred2 = regressor5.predict(X_test)\n",
        "score2 = round(regressor5.score(X_train, Y_train) * 100, 2)\n",
        "print(\"Train Score\",score2)\n",
        "print('Mean Absolute Error : ', metrics.mean_absolute_error(Y_test, y_pred2))\n",
        "print('Mean Squared Error : ', metrics.mean_squared_error(Y_test, y_pred2))\n",
        "print('Root Mean Squared Error : ', math.sqrt(metrics.mean_squared_error(Y_test, y_pred2)))"
      ],
      "metadata": {
        "colab": {
          "base_uri": "https://localhost:8080/"
        },
        "id": "lf44eFxCw3uc",
        "outputId": "350ee5a6-be18-4496-d960-b12728c77735"
      },
      "execution_count": 113,
      "outputs": [
        {
          "output_type": "stream",
          "name": "stdout",
          "text": [
            "Train Score 91.22\n",
            "Mean Absolute Error :  7.099497210180483\n",
            "Mean Squared Error :  103.25318926732308\n",
            "Root Mean Squared Error :  10.161357648824445\n"
          ]
        }
      ]
    },
    {
      "cell_type": "code",
      "source": [
        "from sklearn import linear_model\n",
        "\n",
        "regressor6 = linear_model.Lasso(alpha=0.0013)\n",
        "regressor6.fit(X_train, Y_train)\n",
        "y_pred2 = regressor6.predict(X_test)\n",
        "score2 = round(regressor6.score(X_train, Y_train) * 100, 2)\n",
        "print(\"Train Score\",score2)\n",
        "print('Mean Absolute Error : ', metrics.mean_absolute_error(Y_test, y_pred2))\n",
        "print('Mean Squared Error : ', metrics.mean_squared_error(Y_test, y_pred2))\n",
        "print('Root Mean Squared Error : ', math.sqrt(metrics.mean_squared_error(Y_test, y_pred2)))"
      ],
      "metadata": {
        "colab": {
          "base_uri": "https://localhost:8080/"
        },
        "id": "aKk5q7rOpVJi",
        "outputId": "a97bc094-b0ee-4dba-d3d5-28ee17320e59"
      },
      "execution_count": 114,
      "outputs": [
        {
          "output_type": "stream",
          "name": "stdout",
          "text": [
            "Train Score 97.97\n",
            "Mean Absolute Error :  2.809286798110149\n",
            "Mean Squared Error :  27.628916489712303\n",
            "Root Mean Squared Error :  5.256321574039426\n"
          ]
        }
      ]
    },
    {
      "cell_type": "markdown",
      "source": [
        "# **TEST** **Data**"
      ],
      "metadata": {
        "id": "wx_9lWvm9Kq6"
      }
    },
    {
      "cell_type": "code",
      "source": [
        "test_data= pd.read_csv('Test.csv')\n",
        "test_data.head()"
      ],
      "metadata": {
        "id": "t9gv1L2Q9PtT",
        "colab": {
          "base_uri": "https://localhost:8080/",
          "height": 0
        },
        "outputId": "86fa2fc6-f7d1-48dd-d492-e3d598361f32"
      },
      "execution_count": 115,
      "outputs": [
        {
          "output_type": "execute_result",
          "data": {
            "text/plain": [
              "               date  Usage_kWh  Lagging_Current_Reactive.Power_kVarh  \\\n",
              "0  19/10/2018 16:00      99.36                                 63.68   \n",
              "1  19/10/2018 16:15      88.49                                 54.18   \n",
              "2  19/10/2018 16:30      89.86                                 55.04   \n",
              "3  19/10/2018 16:45      56.66                                 36.40   \n",
              "4  19/10/2018 17:00      56.95                                 35.17   \n",
              "\n",
              "   Leading_Current_Reactive_Power_kVarh  CO2(tCO2)  \\\n",
              "0                                   0.0       0.05   \n",
              "1                                   0.0       0.04   \n",
              "2                                   0.0       0.04   \n",
              "3                                   0.0       0.03   \n",
              "4                                   0.0       0.03   \n",
              "\n",
              "   Lagging_Current_Power_Factor  Leading_Current_Power_Factor    NSM  \\\n",
              "0                         84.19                         100.0  57600   \n",
              "1                         85.28                         100.0  58500   \n",
              "2                         85.28                         100.0  59400   \n",
              "3                         84.13                         100.0  60300   \n",
              "4                         85.08                         100.0  61200   \n",
              "\n",
              "  WeekStatus Day_of_week     Load_Type  \n",
              "0    Weekday      Friday  Maximum_Load  \n",
              "1    Weekday      Friday  Maximum_Load  \n",
              "2    Weekday      Friday  Maximum_Load  \n",
              "3    Weekday      Friday  Maximum_Load  \n",
              "4    Weekday      Friday  Maximum_Load  "
            ],
            "text/html": [
              "\n",
              "  <div id=\"df-4f65c522-70d0-4f83-a0fc-bf97025a0cb1\">\n",
              "    <div class=\"colab-df-container\">\n",
              "      <div>\n",
              "<style scoped>\n",
              "    .dataframe tbody tr th:only-of-type {\n",
              "        vertical-align: middle;\n",
              "    }\n",
              "\n",
              "    .dataframe tbody tr th {\n",
              "        vertical-align: top;\n",
              "    }\n",
              "\n",
              "    .dataframe thead th {\n",
              "        text-align: right;\n",
              "    }\n",
              "</style>\n",
              "<table border=\"1\" class=\"dataframe\">\n",
              "  <thead>\n",
              "    <tr style=\"text-align: right;\">\n",
              "      <th></th>\n",
              "      <th>date</th>\n",
              "      <th>Usage_kWh</th>\n",
              "      <th>Lagging_Current_Reactive.Power_kVarh</th>\n",
              "      <th>Leading_Current_Reactive_Power_kVarh</th>\n",
              "      <th>CO2(tCO2)</th>\n",
              "      <th>Lagging_Current_Power_Factor</th>\n",
              "      <th>Leading_Current_Power_Factor</th>\n",
              "      <th>NSM</th>\n",
              "      <th>WeekStatus</th>\n",
              "      <th>Day_of_week</th>\n",
              "      <th>Load_Type</th>\n",
              "    </tr>\n",
              "  </thead>\n",
              "  <tbody>\n",
              "    <tr>\n",
              "      <th>0</th>\n",
              "      <td>19/10/2018 16:00</td>\n",
              "      <td>99.36</td>\n",
              "      <td>63.68</td>\n",
              "      <td>0.0</td>\n",
              "      <td>0.05</td>\n",
              "      <td>84.19</td>\n",
              "      <td>100.0</td>\n",
              "      <td>57600</td>\n",
              "      <td>Weekday</td>\n",
              "      <td>Friday</td>\n",
              "      <td>Maximum_Load</td>\n",
              "    </tr>\n",
              "    <tr>\n",
              "      <th>1</th>\n",
              "      <td>19/10/2018 16:15</td>\n",
              "      <td>88.49</td>\n",
              "      <td>54.18</td>\n",
              "      <td>0.0</td>\n",
              "      <td>0.04</td>\n",
              "      <td>85.28</td>\n",
              "      <td>100.0</td>\n",
              "      <td>58500</td>\n",
              "      <td>Weekday</td>\n",
              "      <td>Friday</td>\n",
              "      <td>Maximum_Load</td>\n",
              "    </tr>\n",
              "    <tr>\n",
              "      <th>2</th>\n",
              "      <td>19/10/2018 16:30</td>\n",
              "      <td>89.86</td>\n",
              "      <td>55.04</td>\n",
              "      <td>0.0</td>\n",
              "      <td>0.04</td>\n",
              "      <td>85.28</td>\n",
              "      <td>100.0</td>\n",
              "      <td>59400</td>\n",
              "      <td>Weekday</td>\n",
              "      <td>Friday</td>\n",
              "      <td>Maximum_Load</td>\n",
              "    </tr>\n",
              "    <tr>\n",
              "      <th>3</th>\n",
              "      <td>19/10/2018 16:45</td>\n",
              "      <td>56.66</td>\n",
              "      <td>36.40</td>\n",
              "      <td>0.0</td>\n",
              "      <td>0.03</td>\n",
              "      <td>84.13</td>\n",
              "      <td>100.0</td>\n",
              "      <td>60300</td>\n",
              "      <td>Weekday</td>\n",
              "      <td>Friday</td>\n",
              "      <td>Maximum_Load</td>\n",
              "    </tr>\n",
              "    <tr>\n",
              "      <th>4</th>\n",
              "      <td>19/10/2018 17:00</td>\n",
              "      <td>56.95</td>\n",
              "      <td>35.17</td>\n",
              "      <td>0.0</td>\n",
              "      <td>0.03</td>\n",
              "      <td>85.08</td>\n",
              "      <td>100.0</td>\n",
              "      <td>61200</td>\n",
              "      <td>Weekday</td>\n",
              "      <td>Friday</td>\n",
              "      <td>Maximum_Load</td>\n",
              "    </tr>\n",
              "  </tbody>\n",
              "</table>\n",
              "</div>\n",
              "      <button class=\"colab-df-convert\" onclick=\"convertToInteractive('df-4f65c522-70d0-4f83-a0fc-bf97025a0cb1')\"\n",
              "              title=\"Convert this dataframe to an interactive table.\"\n",
              "              style=\"display:none;\">\n",
              "        \n",
              "  <svg xmlns=\"http://www.w3.org/2000/svg\" height=\"24px\"viewBox=\"0 0 24 24\"\n",
              "       width=\"24px\">\n",
              "    <path d=\"M0 0h24v24H0V0z\" fill=\"none\"/>\n",
              "    <path d=\"M18.56 5.44l.94 2.06.94-2.06 2.06-.94-2.06-.94-.94-2.06-.94 2.06-2.06.94zm-11 1L8.5 8.5l.94-2.06 2.06-.94-2.06-.94L8.5 2.5l-.94 2.06-2.06.94zm10 10l.94 2.06.94-2.06 2.06-.94-2.06-.94-.94-2.06-.94 2.06-2.06.94z\"/><path d=\"M17.41 7.96l-1.37-1.37c-.4-.4-.92-.59-1.43-.59-.52 0-1.04.2-1.43.59L10.3 9.45l-7.72 7.72c-.78.78-.78 2.05 0 2.83L4 21.41c.39.39.9.59 1.41.59.51 0 1.02-.2 1.41-.59l7.78-7.78 2.81-2.81c.8-.78.8-2.07 0-2.86zM5.41 20L4 18.59l7.72-7.72 1.47 1.35L5.41 20z\"/>\n",
              "  </svg>\n",
              "      </button>\n",
              "      \n",
              "  <style>\n",
              "    .colab-df-container {\n",
              "      display:flex;\n",
              "      flex-wrap:wrap;\n",
              "      gap: 12px;\n",
              "    }\n",
              "\n",
              "    .colab-df-convert {\n",
              "      background-color: #E8F0FE;\n",
              "      border: none;\n",
              "      border-radius: 50%;\n",
              "      cursor: pointer;\n",
              "      display: none;\n",
              "      fill: #1967D2;\n",
              "      height: 32px;\n",
              "      padding: 0 0 0 0;\n",
              "      width: 32px;\n",
              "    }\n",
              "\n",
              "    .colab-df-convert:hover {\n",
              "      background-color: #E2EBFA;\n",
              "      box-shadow: 0px 1px 2px rgba(60, 64, 67, 0.3), 0px 1px 3px 1px rgba(60, 64, 67, 0.15);\n",
              "      fill: #174EA6;\n",
              "    }\n",
              "\n",
              "    [theme=dark] .colab-df-convert {\n",
              "      background-color: #3B4455;\n",
              "      fill: #D2E3FC;\n",
              "    }\n",
              "\n",
              "    [theme=dark] .colab-df-convert:hover {\n",
              "      background-color: #434B5C;\n",
              "      box-shadow: 0px 1px 3px 1px rgba(0, 0, 0, 0.15);\n",
              "      filter: drop-shadow(0px 1px 2px rgba(0, 0, 0, 0.3));\n",
              "      fill: #FFFFFF;\n",
              "    }\n",
              "  </style>\n",
              "\n",
              "      <script>\n",
              "        const buttonEl =\n",
              "          document.querySelector('#df-4f65c522-70d0-4f83-a0fc-bf97025a0cb1 button.colab-df-convert');\n",
              "        buttonEl.style.display =\n",
              "          google.colab.kernel.accessAllowed ? 'block' : 'none';\n",
              "\n",
              "        async function convertToInteractive(key) {\n",
              "          const element = document.querySelector('#df-4f65c522-70d0-4f83-a0fc-bf97025a0cb1');\n",
              "          const dataTable =\n",
              "            await google.colab.kernel.invokeFunction('convertToInteractive',\n",
              "                                                     [key], {});\n",
              "          if (!dataTable) return;\n",
              "\n",
              "          const docLinkHtml = 'Like what you see? Visit the ' +\n",
              "            '<a target=\"_blank\" href=https://colab.research.google.com/notebooks/data_table.ipynb>data table notebook</a>'\n",
              "            + ' to learn more about interactive tables.';\n",
              "          element.innerHTML = '';\n",
              "          dataTable['output_type'] = 'display_data';\n",
              "          await google.colab.output.renderOutput(dataTable, element);\n",
              "          const docLink = document.createElement('div');\n",
              "          docLink.innerHTML = docLinkHtml;\n",
              "          element.appendChild(docLink);\n",
              "        }\n",
              "      </script>\n",
              "    </div>\n",
              "  </div>\n",
              "  "
            ]
          },
          "metadata": {},
          "execution_count": 115
        }
      ]
    },
    {
      "cell_type": "code",
      "source": [
        "test_data.isna().sum()"
      ],
      "metadata": {
        "id": "X0x9tM3C9tKf",
        "colab": {
          "base_uri": "https://localhost:8080/"
        },
        "outputId": "1382e755-7424-4561-bb73-a5b56c8c493f"
      },
      "execution_count": 116,
      "outputs": [
        {
          "output_type": "execute_result",
          "data": {
            "text/plain": [
              "date                                      0\n",
              "Usage_kWh                                 0\n",
              "Lagging_Current_Reactive.Power_kVarh      0\n",
              "Leading_Current_Reactive_Power_kVarh      0\n",
              "CO2(tCO2)                                 0\n",
              "Lagging_Current_Power_Factor              0\n",
              "Leading_Current_Power_Factor              0\n",
              "NSM                                       0\n",
              "WeekStatus                              692\n",
              "Day_of_week                             692\n",
              "Load_Type                                 0\n",
              "dtype: int64"
            ]
          },
          "metadata": {},
          "execution_count": 116
        }
      ]
    },
    {
      "cell_type": "markdown",
      "source": [
        "Preprosesing\n"
      ],
      "metadata": {
        "id": "0WaMCyWT-L9w"
      }
    },
    {
      "cell_type": "code",
      "source": [
        "# Convert 'date' column to datetime format\n",
        "test_data['date'] = pd.to_datetime(test_data['date'])\n",
        "# Fill null values in 'day_of_week' column using 'date' column\n",
        "test_data['Day_of_week'] = test_data['Day_of_week'].fillna(test_data['date'].dt.day_name())"
      ],
      "metadata": {
        "id": "KTjYwK9Y9xgK"
      },
      "execution_count": 117,
      "outputs": []
    },
    {
      "cell_type": "code",
      "source": [
        "test_data['WeekStatus'].describe()"
      ],
      "metadata": {
        "id": "LYkhA1cW_DV9",
        "colab": {
          "base_uri": "https://localhost:8080/"
        },
        "outputId": "eace58c6-f104-47e6-cd92-ea1da48619ba"
      },
      "execution_count": 118,
      "outputs": [
        {
          "output_type": "execute_result",
          "data": {
            "text/plain": [
              "count        6349\n",
              "unique          2\n",
              "top       Weekday\n",
              "freq         4449\n",
              "Name: WeekStatus, dtype: object"
            ]
          },
          "metadata": {},
          "execution_count": 118
        }
      ]
    },
    {
      "cell_type": "code",
      "source": [
        "test_data['WeekStatus'].fillna('Weekday', inplace=True) # Fill null values with top value in dataset"
      ],
      "metadata": {
        "id": "lLrTqpQI9xiz"
      },
      "execution_count": 119,
      "outputs": []
    },
    {
      "cell_type": "code",
      "source": [
        "test_data.isna().sum()"
      ],
      "metadata": {
        "id": "zYU-xEHp9xlf",
        "colab": {
          "base_uri": "https://localhost:8080/"
        },
        "outputId": "1cb3baea-f0f6-4b6d-c3b8-8ede59aac28a"
      },
      "execution_count": 120,
      "outputs": [
        {
          "output_type": "execute_result",
          "data": {
            "text/plain": [
              "date                                    0\n",
              "Usage_kWh                               0\n",
              "Lagging_Current_Reactive.Power_kVarh    0\n",
              "Leading_Current_Reactive_Power_kVarh    0\n",
              "CO2(tCO2)                               0\n",
              "Lagging_Current_Power_Factor            0\n",
              "Leading_Current_Power_Factor            0\n",
              "NSM                                     0\n",
              "WeekStatus                              0\n",
              "Day_of_week                             0\n",
              "Load_Type                               0\n",
              "dtype: int64"
            ]
          },
          "metadata": {},
          "execution_count": 120
        }
      ]
    },
    {
      "cell_type": "markdown",
      "source": [
        "encoding"
      ],
      "metadata": {
        "id": "aOrJn9wwAKNq"
      }
    },
    {
      "cell_type": "code",
      "source": [
        "# Convert the date and time column to datetime format\n",
        "test_data['date'] = pd.to_datetime(test_data['date'])\n",
        "# Calculate the Unix timestamp in seconds\n",
        "test_data['unix_timestamp'] = (test_data['date'] - dt.datetime(1970,1,1)).dt.total_seconds()\n",
        "# Drop the original datetime column if desired\n",
        "test_data = test_data.drop('date', axis=1)"
      ],
      "metadata": {
        "id": "PngQn9iT9xoU"
      },
      "execution_count": 121,
      "outputs": []
    },
    {
      "cell_type": "code",
      "source": [
        "test_data = pd.get_dummies(test_data, columns=['Day_of_week'])\n",
        "test_data = pd.get_dummies(test_data, columns=['WeekStatus'])\n",
        "test_data['Load_Type']= label.transform(test_data['Load_Type'])\n"
      ],
      "metadata": {
        "id": "UiyAVc3Y9xrX"
      },
      "execution_count": 122,
      "outputs": []
    },
    {
      "cell_type": "code",
      "source": [
        "test_data.shape"
      ],
      "metadata": {
        "id": "hgyfQl_W9xvB",
        "colab": {
          "base_uri": "https://localhost:8080/"
        },
        "outputId": "56fafe0c-ed03-4b76-b40d-7da02f7e52ef"
      },
      "execution_count": 123,
      "outputs": [
        {
          "output_type": "execute_result",
          "data": {
            "text/plain": [
              "(7041, 18)"
            ]
          },
          "metadata": {},
          "execution_count": 123
        }
      ]
    },
    {
      "cell_type": "markdown",
      "source": [
        "split"
      ],
      "metadata": {
        "id": "5Lvb4vhVDkq8"
      }
    },
    {
      "cell_type": "code",
      "source": [
        "y_test_2 = test_data['Usage_kWh']\n",
        "test_data.drop(['Usage_kWh'], axis = 1, inplace = True)"
      ],
      "metadata": {
        "id": "8kiISzxk9tNH"
      },
      "execution_count": 124,
      "outputs": []
    },
    {
      "cell_type": "code",
      "source": [
        "test_data.shape"
      ],
      "metadata": {
        "id": "R4W62iHd9tQB",
        "colab": {
          "base_uri": "https://localhost:8080/"
        },
        "outputId": "cf51b719-7d0a-4471-8951-50e6c2a0f7d0"
      },
      "execution_count": 125,
      "outputs": [
        {
          "output_type": "execute_result",
          "data": {
            "text/plain": [
              "(7041, 17)"
            ]
          },
          "metadata": {},
          "execution_count": 125
        }
      ]
    },
    {
      "cell_type": "markdown",
      "source": [
        "# **TEST Predict**"
      ],
      "metadata": {
        "id": "ixMufrvMDzmd"
      }
    },
    {
      "cell_type": "code",
      "source": [
        "y_pred_2 = regressor1.predict(test_data)\n",
        "print(\"**************Linear Regression**************\")\n",
        "print(\"*********************************************\")\n",
        "print('Mean Absolute Error : ', metrics.mean_absolute_error(y_test_2, y_pred_2))\n",
        "print('Mean Squared Error : ', metrics.mean_squared_error(y_test_2, y_pred_2))\n",
        "print('Root Mean Squared Error : ', math.sqrt(metrics.mean_squared_error(y_test_2, y_pred_2)))"
      ],
      "metadata": {
        "colab": {
          "base_uri": "https://localhost:8080/"
        },
        "id": "OTISf1rCsiYV",
        "outputId": "3f296f56-f5a5-4983-f3df-c51d83095b41"
      },
      "execution_count": 126,
      "outputs": [
        {
          "output_type": "stream",
          "name": "stdout",
          "text": [
            "**************Linear Regression**************\n",
            "*********************************************\n",
            "Mean Absolute Error :  2.357240578516122\n",
            "Mean Squared Error :  12.460965993540668\n",
            "Root Mean Squared Error :  3.5300093475146306\n"
          ]
        }
      ]
    },
    {
      "cell_type": "code",
      "source": [
        "y_pred_2 = regressor2.predict(test_data)\n",
        "print(\"**************Linear Regression with Hyperparameter Tuning***************\")\n",
        "print(\"*************************************************************************\")\n",
        "print('Mean Absolute Error : ', metrics.mean_absolute_error(y_test_2, y_pred_2))\n",
        "print('Mean Squared Error : ', metrics.mean_squared_error(y_test_2, y_pred_2))\n",
        "print('Root Mean Squared Error : ', math.sqrt(metrics.mean_squared_error(y_test_2, y_pred_2)))"
      ],
      "metadata": {
        "id": "ei9mBb_Q9tTQ",
        "colab": {
          "base_uri": "https://localhost:8080/"
        },
        "outputId": "3b274aea-71fc-4b51-f46a-1af3e3a5316d"
      },
      "execution_count": 127,
      "outputs": [
        {
          "output_type": "stream",
          "name": "stdout",
          "text": [
            "**************Linear Regression with Hyperparameter Tuning***************\n",
            "*************************************************************************\n",
            "Mean Absolute Error :  2.357240578516122\n",
            "Mean Squared Error :  12.460965993540668\n",
            "Root Mean Squared Error :  3.5300093475146306\n"
          ]
        }
      ]
    },
    {
      "cell_type": "code",
      "source": [
        "y_pred_2 = regressor3.predict(test_data)\n",
        "print(\"**************Ridge**************\")\n",
        "print(\"*********************************\")\n",
        "print('Mean Absolute Error : ', metrics.mean_absolute_error(y_test_2, y_pred_2))\n",
        "print('Mean Squared Error : ', metrics.mean_squared_error(y_test_2, y_pred_2))\n",
        "print('Root Mean Squared Error : ', math.sqrt(metrics.mean_squared_error(y_test_2, y_pred_2)))"
      ],
      "metadata": {
        "id": "aJhafPTq9tZI",
        "colab": {
          "base_uri": "https://localhost:8080/"
        },
        "outputId": "041af1cc-5bdd-4384-d851-cd963a0a2e0d"
      },
      "execution_count": 128,
      "outputs": [
        {
          "output_type": "stream",
          "name": "stdout",
          "text": [
            "**************Ridge**************\n",
            "*********************************\n",
            "Mean Absolute Error :  4.753668010576897\n",
            "Mean Squared Error :  37.13824688386373\n",
            "Root Mean Squared Error :  6.09411575898126\n"
          ]
        }
      ]
    },
    {
      "cell_type": "code",
      "source": [
        "y_pred_2 = regressor4.predict(test_data)\n",
        "print(\"**************Ridge with Hyperparameter Tuning***************\")\n",
        "print(\"*************************************************************\")\n",
        "print('Mean Absolute Error : ', metrics.mean_absolute_error(y_test_2, y_pred_2))\n",
        "print('Mean Squared Error : ', metrics.mean_squared_error(y_test_2, y_pred_2))\n",
        "print('Root Mean Squared Error : ', math.sqrt(metrics.mean_squared_error(y_test_2, y_pred_2)))"
      ],
      "metadata": {
        "colab": {
          "base_uri": "https://localhost:8080/"
        },
        "id": "ZN3iq_Per_DK",
        "outputId": "4c3209cb-6b23-4113-9853-f4870500a5a8"
      },
      "execution_count": 129,
      "outputs": [
        {
          "output_type": "stream",
          "name": "stdout",
          "text": [
            "**************Ridge with Hyperparameter Tuning***************\n",
            "*************************************************************\n",
            "Mean Absolute Error :  2.3575253196379804\n",
            "Mean Squared Error :  12.461329149654558\n",
            "Root Mean Squared Error :  3.5300607855466963\n"
          ]
        }
      ]
    },
    {
      "cell_type": "code",
      "source": [
        "y_pred_2 = regressor5.predict(test_data)\n",
        "print(\"**************Lasso**************\")\n",
        "print(\"*********************************\")\n",
        "print('Mean Absolute Error : ', metrics.mean_absolute_error(y_test_2, y_pred_2))\n",
        "print('Mean Squared Error : ', metrics.mean_squared_error(y_test_2, y_pred_2))\n",
        "print('Root Mean Squared Error : ', math.sqrt(metrics.mean_squared_error(y_test_2, y_pred_2)))"
      ],
      "metadata": {
        "id": "zk4UtdN29P45",
        "colab": {
          "base_uri": "https://localhost:8080/"
        },
        "outputId": "4f00b5c2-000d-4fc3-a430-645e98915dec"
      },
      "execution_count": 130,
      "outputs": [
        {
          "output_type": "stream",
          "name": "stdout",
          "text": [
            "**************Lasso**************\n",
            "*********************************\n",
            "Mean Absolute Error :  6.800945049978805\n",
            "Mean Squared Error :  83.33495555971625\n",
            "Root Mean Squared Error :  9.128798144318685\n"
          ]
        }
      ]
    },
    {
      "cell_type": "code",
      "source": [
        "y_pred_2 = regressor6.predict(test_data)\n",
        "print(\"**************Lasso with Hyperparameter Tuning **************\")\n",
        "print(\"*************************************************************\")\n",
        "print('Mean Absolute Error : ', metrics.mean_absolute_error(y_test_2, y_pred_2))\n",
        "print('Mean Squared Error : ', metrics.mean_squared_error(y_test_2, y_pred_2))\n",
        "print('Root Mean Squared Error : ', math.sqrt(metrics.mean_squared_error(y_test_2, y_pred_2)))"
      ],
      "metadata": {
        "id": "3wewvYhB9P8V",
        "colab": {
          "base_uri": "https://localhost:8080/"
        },
        "outputId": "8da480a1-e7a8-4b81-a98c-375c99c4df0f"
      },
      "execution_count": 131,
      "outputs": [
        {
          "output_type": "stream",
          "name": "stdout",
          "text": [
            "**************Lasso with Hyperparameter Tuning **************\n",
            "*************************************************************\n",
            "Mean Absolute Error :  2.411598086793555\n",
            "Mean Squared Error :  12.565338306355484\n",
            "Root Mean Squared Error :  3.544762094464942\n"
          ]
        }
      ]
    }
  ]
}